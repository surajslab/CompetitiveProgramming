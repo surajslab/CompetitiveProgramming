{
  "nbformat": 4,
  "nbformat_minor": 0,
  "metadata": {
    "colab": {
      "name": "LongestIncreasing Subsequence.ipynb",
      "provenance": [],
      "authorship_tag": "ABX9TyNnTskwRgYJHWfscW78vqgQ",
      "include_colab_link": true
    },
    "kernelspec": {
      "name": "python3",
      "display_name": "Python 3"
    },
    "language_info": {
      "name": "python"
    }
  },
  "cells": [
    {
      "cell_type": "markdown",
      "metadata": {
        "id": "view-in-github",
        "colab_type": "text"
      },
      "source": [
        "<a href=\"https://colab.research.google.com/github/surajslab/CompetitiveProgramming/blob/main/LongestIncreasing_Subsequence.ipynb\" target=\"_parent\"><img src=\"https://colab.research.google.com/assets/colab-badge.svg\" alt=\"Open In Colab\"/></a>"
      ]
    },
    {
      "cell_type": "code",
      "metadata": {
        "id": "xERnkiH0fg5L"
      },
      "source": [
        "def lengthSubsequence(seq):\n",
        "\n",
        "  LIS=[1]*len(seq)\n",
        "\n",
        "  for i in range(len(seq)-1,-1,-1):\n",
        "    \n",
        "    for j in range(i+1,len(seq)):\n",
        "      if seq[i]<seq[i+1]:\n",
        "        LIS[i]=max(LIS[i],1+LIS[j])\n",
        "\n",
        "  return max(LIS)\n",
        "      \n",
        "      \n",
        "    \n",
        "\n",
        "\n",
        "\n",
        "\n",
        "  \n"
      ],
      "execution_count": 17,
      "outputs": []
    },
    {
      "cell_type": "code",
      "metadata": {
        "colab": {
          "base_uri": "https://localhost:8080/"
        },
        "id": "7598dG4ahOc2",
        "outputId": "f5ab5c01-2971-4c90-8899-858bb00fd996"
      },
      "source": [
        "lengthSubsequence([4,3,9,7,6,8,20])"
      ],
      "execution_count": 18,
      "outputs": [
        {
          "output_type": "execute_result",
          "data": {
            "text/plain": [
              "4"
            ]
          },
          "metadata": {},
          "execution_count": 18
        }
      ]
    }
  ]
}