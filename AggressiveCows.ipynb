{
  "nbformat": 4,
  "nbformat_minor": 0,
  "metadata": {
    "colab": {
      "name": "AggressiveCows.ipynb",
      "provenance": [],
      "collapsed_sections": [],
      "authorship_tag": "ABX9TyNxNItPZOyisrL4hW9+IBfH",
      "include_colab_link": true
    },
    "kernelspec": {
      "name": "python3",
      "display_name": "Python 3"
    },
    "language_info": {
      "name": "python"
    }
  },
  "cells": [
    {
      "cell_type": "markdown",
      "metadata": {
        "id": "view-in-github",
        "colab_type": "text"
      },
      "source": [
        "<a href=\"https://colab.research.google.com/github/surajslab/CompetitiveProgramming/blob/main/AggressiveCows.ipynb\" target=\"_parent\"><img src=\"https://colab.research.google.com/assets/colab-badge.svg\" alt=\"Open In Colab\"/></a>"
      ]
    },
    {
      "cell_type": "markdown",
      "metadata": {
        "id": "L3WmvzlsPB2D"
      },
      "source": [
        "# Aggressive Cows\n"
      ]
    },
    {
      "cell_type": "markdown",
      "metadata": {
        "id": "DbyUqL6nU-lf"
      },
      "source": [
        "Farmer John has built a new long barn, with N (2 <= N <= 100,000) stalls. The stalls are located along a straight line at positions x1,...,xN (0 <= xi <= 1,000,000,000).\n",
        "His C (2 <= C <= N) cows don't like this barn layout and become aggressive towards each other once put into a stall. To prevent the cows from hurting each other, FJ wants to assign the cows to the stalls, such that the minimum distance between any two of them is as large as possible. What is the largest minimum distance?\n",
        "\n",
        "\n",
        "\n",
        "### Based on Binary Search"
      ]
    },
    {
      "cell_type": "code",
      "metadata": {
        "id": "bdeKNp6XO8Vp"
      },
      "source": [
        "n=[15,5, 2, 4, 17, 16, 12, 8, 19, 18, 11 ]\n",
        "\n",
        "c=3\n"
      ],
      "execution_count": null,
      "outputs": []
    },
    {
      "cell_type": "code",
      "metadata": {
        "colab": {
          "base_uri": "https://localhost:8080/"
        },
        "id": "txnocN9sPi9q",
        "outputId": "787fc0f7-5da1-4c67-8e19-cebb05afeff9"
      },
      "source": [
        "\n",
        "\n",
        "def check(mid,arr,c,n):\n",
        "  \n",
        "\n",
        "  count=1\n",
        "  last_pos=arr[0]\n",
        "  cc=1\n",
        "\n",
        "  for i in range(len(n)):\n",
        "    if((arr[i]-last_pos >=mid) and cc<=c):\n",
        "      count+=1\n",
        "      last_pos=arr[i]\n",
        "\n",
        "    if count==c:\n",
        "      return True\n",
        "\n",
        "  return False\n",
        "\n",
        "\n",
        "\n",
        "arr = sorted(n)\n",
        "start=0\n",
        "end=arr[-1]-arr[0]\n",
        "ans=0\n",
        "\n",
        "while(start<=end):\n",
        "\n",
        "  mid=(start+end)//2\n",
        "\n",
        "  if check(mid,arr,c,n):\n",
        "    ans=mid\n",
        "    start=mid+1\n",
        "\n",
        "  else:\n",
        "    end=mid-1\n",
        "\n",
        "print(ans)\n",
        "\n",
        "  \n"
      ],
      "execution_count": null,
      "outputs": [
        {
          "output_type": "stream",
          "name": "stdout",
          "text": [
            "8\n"
          ]
        }
      ]
    },
    {
      "cell_type": "code",
      "metadata": {
        "id": "xTLVa6TtUArN"
      },
      "source": [
        ""
      ],
      "execution_count": null,
      "outputs": []
    }
  ]
}