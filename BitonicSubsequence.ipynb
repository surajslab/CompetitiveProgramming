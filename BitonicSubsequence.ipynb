{
  "nbformat": 4,
  "nbformat_minor": 0,
  "metadata": {
    "colab": {
      "name": "BitonicSubsequence.ipynb",
      "provenance": [],
      "authorship_tag": "ABX9TyPj/pXnJkP90GvC/sPFDNpi",
      "include_colab_link": true
    },
    "kernelspec": {
      "name": "python3",
      "display_name": "Python 3"
    },
    "language_info": {
      "name": "python"
    }
  },
  "cells": [
    {
      "cell_type": "markdown",
      "metadata": {
        "id": "view-in-github",
        "colab_type": "text"
      },
      "source": [
        "<a href=\"https://colab.research.google.com/github/surajslab/CompetitiveProgramming/blob/main/BitonicSubsequence.ipynb\" target=\"_parent\"><img src=\"https://colab.research.google.com/assets/colab-badge.svg\" alt=\"Open In Colab\"/></a>"
      ]
    },
    {
      "cell_type": "code",
      "metadata": {
        "id": "022cETxHlWR3"
      },
      "source": [
        "\n",
        "def LongestBitonic(seq):\n",
        "\n",
        "  lis=[1]*len(seq)\n",
        "\n",
        "  for i in range(1,len(seq)):\n",
        "\n",
        "    for j in range(0,i+1):\n",
        "\n",
        "      if seq[i]>seq[j] and lis[i]<1+lis[j]:\n",
        "        lis[i]=1+lis[j]\n",
        "\n",
        "  return lis\n"
      ],
      "execution_count": 15,
      "outputs": []
    },
    {
      "cell_type": "code",
      "metadata": {
        "colab": {
          "base_uri": "https://localhost:8080/"
        },
        "id": "HHS8-fvhY-dK",
        "outputId": "e962245b-7ab0-467b-c25f-24c1a999537e"
      },
      "source": [
        "arr=[2,7,4,2,8,7 ]\n",
        "\n",
        "ans1=LongestBitonic(arr)\n",
        "ans2=LongestBitonic(arr[::-1])\n",
        "\n",
        "maximum= (ans1[0]+ans2[0])-1\n",
        "for i in range(1,len(ans1)):\n",
        "  maximum=max((ans1[i]+ans2[i])-1, maximum)\n",
        "\n",
        "print(maximum)\n"
      ],
      "execution_count": 16,
      "outputs": [
        {
          "output_type": "stream",
          "name": "stdout",
          "text": [
            "5\n"
          ]
        }
      ]
    },
    {
      "cell_type": "code",
      "metadata": {
        "id": "hHrKDLzVZISY"
      },
      "source": [
        ""
      ],
      "execution_count": null,
      "outputs": []
    }
  ]
}