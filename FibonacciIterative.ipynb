{
  "nbformat": 4,
  "nbformat_minor": 0,
  "metadata": {
    "colab": {
      "name": "FibonacciIterative.ipynb",
      "provenance": [],
      "authorship_tag": "ABX9TyM63ePPuc+98aftUcUgsxhw",
      "include_colab_link": true
    },
    "kernelspec": {
      "name": "python3",
      "display_name": "Python 3"
    },
    "language_info": {
      "name": "python"
    }
  },
  "cells": [
    {
      "cell_type": "markdown",
      "metadata": {
        "id": "view-in-github",
        "colab_type": "text"
      },
      "source": [
        "<a href=\"https://colab.research.google.com/github/surajslab/CompetitiveProgramming/blob/main/FibonacciIterative.ipynb\" target=\"_parent\"><img src=\"https://colab.research.google.com/assets/colab-badge.svg\" alt=\"Open In Colab\"/></a>"
      ]
    },
    {
      "cell_type": "code",
      "metadata": {
        "id": "Jm_q9uEQRF3n"
      },
      "source": [
        "def fibo(n):\n",
        "  fibolist=[]\n",
        "  fibolist.append(0)\n",
        "  fibolist.append(1)\n",
        "  i=2\n",
        "\n",
        "  while(i<n):\n",
        "    fibolist.append(fibolist[i-1]+fibolist[i-2])\n",
        "    i+=1\n",
        "\n",
        "  return fibolist[-1]\n"
      ],
      "execution_count": 9,
      "outputs": []
    },
    {
      "cell_type": "code",
      "metadata": {
        "colab": {
          "base_uri": "https://localhost:8080/"
        },
        "id": "Yqapv_94RnW3",
        "outputId": "71598205-f51c-4837-9573-fedc5a77208e"
      },
      "source": [
        "fibo(50)"
      ],
      "execution_count": 10,
      "outputs": [
        {
          "output_type": "execute_result",
          "data": {
            "text/plain": [
              "7778742049"
            ]
          },
          "metadata": {},
          "execution_count": 10
        }
      ]
    },
    {
      "cell_type": "code",
      "metadata": {
        "id": "Sy0WeawCRsEP"
      },
      "source": [
        ""
      ],
      "execution_count": null,
      "outputs": []
    }
  ]
}