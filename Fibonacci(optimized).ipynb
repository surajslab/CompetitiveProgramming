{
  "nbformat": 4,
  "nbformat_minor": 0,
  "metadata": {
    "colab": {
      "name": "Fibonacci(optimized).ipynb",
      "provenance": [],
      "authorship_tag": "ABX9TyMxCbjI/agRRc3QSoAx3lyV",
      "include_colab_link": true
    },
    "kernelspec": {
      "name": "python3",
      "display_name": "Python 3"
    },
    "language_info": {
      "name": "python"
    }
  },
  "cells": [
    {
      "cell_type": "markdown",
      "metadata": {
        "id": "view-in-github",
        "colab_type": "text"
      },
      "source": [
        "<a href=\"https://colab.research.google.com/github/surajslab/CompetitiveProgramming/blob/main/Fibonacci(optimized).ipynb\" target=\"_parent\"><img src=\"https://colab.research.google.com/assets/colab-badge.svg\" alt=\"Open In Colab\"/></a>"
      ]
    },
    {
      "cell_type": "code",
      "metadata": {
        "id": "bXUk-SloYDP0"
      },
      "source": [
        "\n",
        "memo={}\n",
        "def fibo(n):\n",
        "\n",
        "  if n==0 or n==1:\n",
        "    return n\n",
        "\n",
        "  elif n in memo:\n",
        "    return memo[n]\n",
        "  \n",
        "  else:\n",
        "    ans=fibo(n-1)+fibo(n-2)\n",
        "    memo[n]=ans\n",
        "    return ans\n"
      ],
      "execution_count": 5,
      "outputs": []
    },
    {
      "cell_type": "code",
      "metadata": {
        "colab": {
          "base_uri": "https://localhost:8080/"
        },
        "id": "Xi5IC5rCYvdt",
        "outputId": "deeacd7a-1104-4465-c275-f7b92bff6fdb"
      },
      "source": [
        "print(fibo(3))"
      ],
      "execution_count": 9,
      "outputs": [
        {
          "output_type": "stream",
          "name": "stdout",
          "text": [
            "2\n"
          ]
        }
      ]
    },
    {
      "cell_type": "code",
      "metadata": {
        "id": "gyrHLZmWY1sN"
      },
      "source": [
        ""
      ],
      "execution_count": null,
      "outputs": []
    }
  ]
}