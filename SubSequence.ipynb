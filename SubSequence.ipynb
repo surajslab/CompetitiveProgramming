{
  "nbformat": 4,
  "nbformat_minor": 0,
  "metadata": {
    "colab": {
      "name": "SubSequence.ipynb",
      "provenance": [],
      "authorship_tag": "ABX9TyO5Xj1l5c00pFXPYIYyTDsr",
      "include_colab_link": true
    },
    "kernelspec": {
      "name": "python3",
      "display_name": "Python 3"
    },
    "language_info": {
      "name": "python"
    }
  },
  "cells": [
    {
      "cell_type": "markdown",
      "metadata": {
        "id": "view-in-github",
        "colab_type": "text"
      },
      "source": [
        "<a href=\"https://colab.research.google.com/github/surajslab/CompetitiveProgramming/blob/main/SubSequence.ipynb\" target=\"_parent\"><img src=\"https://colab.research.google.com/assets/colab-badge.svg\" alt=\"Open In Colab\"/></a>"
      ]
    },
    {
      "cell_type": "code",
      "metadata": {
        "id": "DeCAEwg0SywG"
      },
      "source": [
        "\n",
        "\n",
        "def subsequence(arr):\n",
        "\n",
        "  if len(arr)==0:\n",
        "    return [\"\"]\n",
        "  \n",
        "  small=subsequence(arr[1:])\n",
        "  result= [\"\"]* (2*len(small))\n",
        "\n",
        "\n",
        "  k=0\n",
        "  for i in small:\n",
        "    result[k]=i\n",
        "    k+=1\n",
        "\n",
        "  for i in small:\n",
        "    result[k]= arr[0]+i\n",
        "    k+=1\n",
        "\n",
        "  return result\n"
      ],
      "execution_count": 9,
      "outputs": []
    },
    {
      "cell_type": "code",
      "metadata": {
        "colab": {
          "base_uri": "https://localhost:8080/"
        },
        "id": "Xa27Dha5btAz",
        "outputId": "6a0a8ae8-46ca-4ffc-ade0-c7de286b731c"
      },
      "source": [
        "subsequence(\"net\")"
      ],
      "execution_count": 10,
      "outputs": [
        {
          "output_type": "execute_result",
          "data": {
            "text/plain": [
              "['', 't', 'e', 'et', 'n', 'nt', 'ne', 'net']"
            ]
          },
          "metadata": {},
          "execution_count": 10
        }
      ]
    },
    {
      "cell_type": "code",
      "metadata": {
        "id": "0IDhw7eWcVZm"
      },
      "source": [
        ""
      ],
      "execution_count": null,
      "outputs": []
    }
  ]
}