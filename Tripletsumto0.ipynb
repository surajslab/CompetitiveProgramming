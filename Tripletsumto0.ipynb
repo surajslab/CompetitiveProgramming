{
  "nbformat": 4,
  "nbformat_minor": 0,
  "metadata": {
    "colab": {
      "name": "Tripletsumto0.ipynb",
      "provenance": [],
      "authorship_tag": "ABX9TyPj0j+vmT9l9sJKXBjUrOAU",
      "include_colab_link": true
    },
    "kernelspec": {
      "name": "python3",
      "display_name": "Python 3"
    },
    "language_info": {
      "name": "python"
    }
  },
  "cells": [
    {
      "cell_type": "markdown",
      "metadata": {
        "id": "view-in-github",
        "colab_type": "text"
      },
      "source": [
        "<a href=\"https://colab.research.google.com/github/surajslab/CompetitiveProgramming/blob/main/Tripletsumto0.ipynb\" target=\"_parent\"><img src=\"https://colab.research.google.com/assets/colab-badge.svg\" alt=\"Open In Colab\"/></a>"
      ]
    },
    {
      "cell_type": "code",
      "metadata": {
        "id": "PvpapL5k-6jr"
      },
      "source": [
        "\n",
        "def threeSum(self, nums):\n",
        "    res=[]\n",
        "    \n",
        "    for i in range(0,len(nums)-2):\n",
        "        for j in range(i+1,len(nums)-1):\n",
        "            for k in range(j+1,len(nums)):\n",
        "                if i!=j and i!=k and j!=k and nums[i]+nums[j]+nums[k]==0:\n",
        "                    b=(sorted([nums[i],nums[j],nums[k]]))\n",
        "                    if b not in res:\n",
        "                        res.append( b)\n",
        "                    \n"
      ],
      "execution_count": 4,
      "outputs": []
    },
    {
      "cell_type": "code",
      "metadata": {
        "id": "bQTWSKV4_ArP"
      },
      "source": [
        ""
      ],
      "execution_count": null,
      "outputs": []
    }
  ]
}